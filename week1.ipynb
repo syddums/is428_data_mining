{
 "cells": [
  {
   "cell_type": "markdown",
   "id": "4fbf5254-f264-4bce-84bb-ee0f38cac194",
   "metadata": {},
   "source": [
    "# Week 1 "
   ]
  },
  {
   "cell_type": "code",
   "execution_count": 1,
   "id": "68a80f72-fe33-4142-9064-835c9d9c1bea",
   "metadata": {},
   "outputs": [
    {
     "name": "stdout",
     "output_type": "stream",
     "text": [
      "getting started\n"
     ]
    }
   ],
   "source": [
    "print('getting started')"
   ]
  },
  {
   "cell_type": "code",
   "execution_count": 2,
   "id": "53175d23-e035-46c6-ae08-823de2ea4807",
   "metadata": {},
   "outputs": [
    {
     "name": "stdout",
     "output_type": "stream",
     "text": [
      "hello world\n"
     ]
    }
   ],
   "source": [
    "print('hello world')"
   ]
  },
  {
   "cell_type": "code",
   "execution_count": 6,
   "id": "62ab0575-cd15-4692-8022-49b63a10d1c7",
   "metadata": {},
   "outputs": [],
   "source": [
    "# string"
   ]
  },
  {
   "cell_type": "markdown",
   "id": "fb061d00-e74e-4343-9192-c947329f9740",
   "metadata": {},
   "source": [
    "-----------"
   ]
  },
  {
   "cell_type": "markdown",
   "id": "02eadc20-8c56-4b04-95f7-cc0445dac797",
   "metadata": {},
   "source": [
    "#### Problem 1 (10 points): Variable Practice\n",
    "1. Create three variables:\n",
    "- Your age (integer)\n",
    "- Your name (string)\n",
    "- Your GPA (float)\n",
    "2. Print them out with their types using ty"
   ]
  },
  {
   "cell_type": "code",
   "execution_count": 11,
   "id": "400bc284-ec37-4114-a4ab-3e531fabf82d",
   "metadata": {},
   "outputs": [],
   "source": [
    "name = 'Sydnee'\n",
    "age = 22\n",
    "gpa = 3.4"
   ]
  },
  {
   "cell_type": "code",
   "execution_count": 12,
   "id": "b2ffe490-ecb7-488d-be84-1dc27ce00c8a",
   "metadata": {},
   "outputs": [],
   "source": [
    "name_t = type(name)\n",
    "age_t = type(age)\n",
    "gpa_t = type(gpa) "
   ]
  },
  {
   "cell_type": "code",
   "execution_count": 13,
   "id": "803746f4-1eaf-4fb0-a1cd-66ae2d77fe47",
   "metadata": {},
   "outputs": [
    {
     "name": "stdout",
     "output_type": "stream",
     "text": [
      "Name: Sydnee (type: <class 'str'> | Age: 22 (type: <class 'int'> | GPA: 3.4 (type: <class 'float'>\n"
     ]
    }
   ],
   "source": [
    "print('Name: ' + name + ' (type: ' + str(name_t) +\n",
    "      ' | Age: ' + str(age) + ' (type: ' + str(age_t) +\n",
    "      ' | GPA: ' + str(gpa) + ' (type: ' + str(gpa_t))"
   ]
  },
  {
   "cell_type": "markdown",
   "id": "677dbbf9-f8df-4319-bf51-374c45ca1d90",
   "metadata": {},
   "source": [
    "---"
   ]
  },
  {
   "cell_type": "markdown",
   "id": "eb870f7c-1194-4fea-914f-16a02b34742e",
   "metadata": {},
   "source": [
    "#### Problem 2: String Concantenation\n",
    "The variable students = 25.\n",
    "- Write a program that prints: There are 25 students in the class.\n",
    "- Do this twice:\n",
    "1. By using str() to convert the number.\n",
    "2. By using .format()."
   ]
  },
  {
   "cell_type": "code",
   "execution_count": 14,
   "id": "0fb3ea97-b01a-4dae-ae81-751ebc6a8ec0",
   "metadata": {},
   "outputs": [],
   "source": [
    "students=25"
   ]
  },
  {
   "cell_type": "code",
   "execution_count": 15,
   "id": "8be79e29-d076-40c2-b269-a3c66ad82f6a",
   "metadata": {},
   "outputs": [
    {
     "name": "stdout",
     "output_type": "stream",
     "text": [
      "There are 25 students in the class.\n"
     ]
    }
   ],
   "source": [
    "print('There are ' + str(students) + ' students in the class.')"
   ]
  },
  {
   "cell_type": "code",
   "execution_count": 16,
   "id": "70116a67-b0cc-4278-86f7-2ec452f7fdf9",
   "metadata": {},
   "outputs": [
    {
     "name": "stdout",
     "output_type": "stream",
     "text": [
      "There are 25 students in the class\n"
     ]
    }
   ],
   "source": [
    "print('There are {} students in the class'.format(students))"
   ]
  },
  {
   "cell_type": "code",
   "execution_count": 17,
   "id": "4acc0957-192b-4b03-b094-72a48736d273",
   "metadata": {},
   "outputs": [],
   "source": [
    "# reflection - i didn't know how to use the .format() method and you attach it to strings. it will return the following string with "
   ]
  },
  {
   "cell_type": "markdown",
   "id": "5255021e-13cb-495d-9d1e-a327d48c6277",
   "metadata": {},
   "source": [
    "---"
   ]
  },
  {
   "cell_type": "markdown",
   "id": "0fa2ca66-6c07-442a-aece-7ad34f2b34e5",
   "metadata": {},
   "source": [
    "#### Problem 3 (10 points): User Input\n",
    "Ask the user for:\n",
    "- The number of new students joining the class.\n",
    "- Print out the total number of students (originally 20 students + new students)."
   ]
  },
  {
   "cell_type": "code",
   "execution_count": 19,
   "id": "d4b69bf1-1fe2-475c-bfed-49b1c5382f4c",
   "metadata": {},
   "outputs": [
    {
     "name": "stdin",
     "output_type": "stream",
     "text": [
      "Enter the number of number of new students joining this week:  30\n"
     ]
    }
   ],
   "source": [
    "user_data = input('Enter the number of number of new students joining this week: ')"
   ]
  },
  {
   "cell_type": "code",
   "execution_count": 20,
   "id": "36df7ab1-3aa7-4d89-b0bb-ce3859130a0e",
   "metadata": {},
   "outputs": [
    {
     "name": "stdout",
     "output_type": "stream",
     "text": [
      "Total number of students: 50\n"
     ]
    }
   ],
   "source": [
    "print('Total number of students: ' + str(int(user_data) + 20))"
   ]
  },
  {
   "cell_type": "markdown",
   "id": "6d74d5fe-7b74-436b-a36c-fa868368bb82",
   "metadata": {},
   "source": [
    "---"
   ]
  },
  {
   "cell_type": "markdown",
   "id": "9bcd5995-fa91-4ab8-a970-6764de5ba02b",
   "metadata": {},
   "source": [
    "#### Problem 4 (10 points): Working with Lists\n",
    "1. Create a list of your 4 favorite movies.\n",
    "2. Print the list in the original order.\n",
    "3. Print the list in sorted order.\n",
    "4. Add one more movie to the list and print again."
   ]
  },
  {
   "cell_type": "code",
   "execution_count": 21,
   "id": "53b7188e-b9f9-4a08-ae84-aa5da1b49403",
   "metadata": {},
   "outputs": [],
   "source": [
    "movies = ['Closer', 'The Other Woman', 'The Bronx Tale', 'Ponyo']"
   ]
  },
  {
   "cell_type": "code",
   "execution_count": 22,
   "id": "b365ee99-c50f-4600-964c-368d6da4e8ba",
   "metadata": {},
   "outputs": [
    {
     "name": "stdout",
     "output_type": "stream",
     "text": [
      "Original movies: ['Closer', 'The Other Woman', 'The Bronx Tale', 'Ponyo']\n"
     ]
    }
   ],
   "source": [
    "print('Original movies: ' + str(movies)) # didn't realize that you have to make lists strings, can only concantenate strings"
   ]
  },
  {
   "cell_type": "code",
   "execution_count": 23,
   "id": "a2a9d5db-917d-4c6c-aa53-6bae3c5bb151",
   "metadata": {},
   "outputs": [
    {
     "name": "stdout",
     "output_type": "stream",
     "text": [
      "['Closer', 'The Other Woman', 'The Bronx Tale', 'Ponyo']\n"
     ]
    }
   ],
   "source": [
    "print(movies)"
   ]
  },
  {
   "cell_type": "code",
   "execution_count": 24,
   "id": "27bc8af1-b4af-424d-8ee5-5edaba8d918b",
   "metadata": {},
   "outputs": [],
   "source": [
    "movies.sort() # sorts list in natural order i.e. alphabetical, numerical, etc\n",
    "# can reverse it where list.sort(reverse=True)"
   ]
  },
  {
   "cell_type": "code",
   "execution_count": 25,
   "id": "a2f1598a-e742-414c-8c56-56bfccb9701a",
   "metadata": {},
   "outputs": [
    {
     "name": "stdout",
     "output_type": "stream",
     "text": [
      "['Closer', 'Ponyo', 'The Bronx Tale', 'The Other Woman']\n"
     ]
    }
   ],
   "source": [
    "print(movies)"
   ]
  },
  {
   "cell_type": "code",
   "execution_count": 26,
   "id": "5353fb5c-0965-471a-bc9a-77c2bd5119e7",
   "metadata": {},
   "outputs": [],
   "source": [
    "movies.append('Winnie the Pooh')"
   ]
  },
  {
   "cell_type": "code",
   "execution_count": 27,
   "id": "49413674-d40d-402e-b768-8e291ac9ddbf",
   "metadata": {},
   "outputs": [
    {
     "name": "stdout",
     "output_type": "stream",
     "text": [
      "['Closer', 'Ponyo', 'The Bronx Tale', 'The Other Woman', 'Winnie the Pooh']\n"
     ]
    }
   ],
   "source": [
    "print(movies)"
   ]
  },
  {
   "cell_type": "markdown",
   "id": "34cbc593-ab3d-4cf9-be6f-854a39b38ff5",
   "metadata": {},
   "source": [
    "---"
   ]
  },
  {
   "cell_type": "markdown",
   "id": "258cb3e0-6dd3-4058-97a9-a4f1402d9ff9",
   "metadata": {},
   "source": [
    "#### Problem 5 (10 points): Nested Lists\n",
    "The following data represents fruits with their ID numbers:\n",
    "[[1,'apple'], [2,'banana'], [3,'cherry'], [4,'mango']]\n",
    "\n",
    "\n",
    "Write a program that:\n",
    "1. Prints the entire list.\n",
    "2. Prints only the fruit names (no numbers).\n",
    "3. Prints them in reverse order."
   ]
  },
  {
   "cell_type": "code",
   "execution_count": 28,
   "id": "df587b50-4063-451d-b9d8-80b2c4723b7a",
   "metadata": {},
   "outputs": [],
   "source": [
    "fruits = [[1,'apple'], [2,'banana'], [3,'cherry'], [4,'mango']]"
   ]
  },
  {
   "cell_type": "code",
   "execution_count": 29,
   "id": "82e56489-d0e5-4607-ba38-a7d62a673daf",
   "metadata": {},
   "outputs": [
    {
     "name": "stdout",
     "output_type": "stream",
     "text": [
      "Original items: [[1, 'apple'], [2, 'banana'], [3, 'cherry'], [4, 'mango']]\n"
     ]
    }
   ],
   "source": [
    "print('Original items: ' + str(fruits))"
   ]
  },
  {
   "cell_type": "code",
   "execution_count": 30,
   "id": "640f6b51-67b4-4783-ade4-ad5ee4981cc6",
   "metadata": {},
   "outputs": [
    {
     "data": {
      "text/plain": [
       "['apple', 'banana', 'cherry', 'mango']"
      ]
     },
     "execution_count": 30,
     "metadata": {},
     "output_type": "execute_result"
    }
   ],
   "source": [
    "fruit_names = [row[1] for row in fruits]\n",
    "fruit_names"
   ]
  },
  {
   "cell_type": "code",
   "execution_count": 31,
   "id": "f78d378e-91b8-419d-9dbf-1ea765c3f53e",
   "metadata": {},
   "outputs": [
    {
     "name": "stdout",
     "output_type": "stream",
     "text": [
      "Fruit names: ['apple', 'banana', 'cherry', 'mango']\n"
     ]
    }
   ],
   "source": [
    "print('Fruit names: ' + str(fruit_names))"
   ]
  },
  {
   "cell_type": "code",
   "execution_count": 32,
   "id": "35420cb3-3b86-4910-a912-fd8ab36574b3",
   "metadata": {},
   "outputs": [],
   "source": [
    "fruit_names.reverse()"
   ]
  },
  {
   "cell_type": "code",
   "execution_count": 33,
   "id": "75461734-cacf-4f13-859f-ff6cfbc82af8",
   "metadata": {},
   "outputs": [
    {
     "name": "stdout",
     "output_type": "stream",
     "text": [
      "Reverse order: ['mango', 'cherry', 'banana', 'apple']\n"
     ]
    }
   ],
   "source": [
    "print('Reverse order: ' + str(fruit_names))"
   ]
  },
  {
   "cell_type": "markdown",
   "id": "3d1fd161-f7a8-43b0-8689-c28997d65558",
   "metadata": {},
   "source": [
    "---"
   ]
  },
  {
   "cell_type": "markdown",
   "id": "d428fd5f-a631-4841-871b-062156a661cd",
   "metadata": {},
   "source": [
    "#### Challenge Problem (Optional) (10 bonus points)\n",
    "Write a Python program that:\n",
    "1. Asks the user for their name.\n",
    "2. Asks the user for their 3 favorite colors (one at a time).\n",
    "3. Stores the colors in a list.\n",
    "4. Prints a message:\n",
    "Hello Kai! Your favorite colors are: ['blue', 'green', 'red']"
   ]
  },
  {
   "cell_type": "code",
   "execution_count": 34,
   "id": "cc45cacc-b064-4f20-b091-e580068f8ea4",
   "metadata": {},
   "outputs": [
    {
     "name": "stdin",
     "output_type": "stream",
     "text": [
      "What is your name? Sydnee\n"
     ]
    }
   ],
   "source": [
    "user_name = input('What is your name?')"
   ]
  },
  {
   "cell_type": "code",
   "execution_count": 35,
   "id": "7630cf9a-31eb-4314-a2ec-814e04850378",
   "metadata": {},
   "outputs": [
    {
     "name": "stdin",
     "output_type": "stream",
     "text": [
      "Enter favorite color:  blue\n",
      "Enter favorite color:  grey\n",
      "Enter favorite color:  purple\n"
     ]
    }
   ],
   "source": [
    "colors = [input(\"Enter favorite color: \") for i in range(3)]\n",
    "# logic is going to provide 3 items for entry"
   ]
  },
  {
   "cell_type": "code",
   "execution_count": 36,
   "id": "349a3c37-4d6a-441a-84bd-acd446f986c8",
   "metadata": {},
   "outputs": [
    {
     "name": "stdout",
     "output_type": "stream",
     "text": [
      "Hi Sydnee! Your favorite colors are: ['blue', 'grey', 'purple']\n"
     ]
    }
   ],
   "source": [
    "print('Hi ' + str(user_name) + '! Your favorite colors are: ' + str(colors))"
   ]
  },
  {
   "cell_type": "code",
   "execution_count": null,
   "id": "7bccc5de-0902-4ea2-8e4e-30bba1fe2541",
   "metadata": {},
   "outputs": [],
   "source": []
  }
 ],
 "metadata": {
  "kernelspec": {
   "display_name": "Python 3 (ipykernel)",
   "language": "python",
   "name": "python3"
  },
  "language_info": {
   "codemirror_mode": {
    "name": "ipython",
    "version": 3
   },
   "file_extension": ".py",
   "mimetype": "text/x-python",
   "name": "python",
   "nbconvert_exporter": "python",
   "pygments_lexer": "ipython3",
   "version": "3.9.6"
  }
 },
 "nbformat": 4,
 "nbformat_minor": 5
}
