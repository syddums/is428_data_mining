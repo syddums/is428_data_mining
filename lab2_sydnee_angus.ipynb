{
 "cells": [
  {
   "cell_type": "markdown",
   "id": "c87a9927-9b9d-46c9-b293-09beb0bdabfc",
   "metadata": {},
   "source": [
    "#### Task 1: Dataset Exploration\n",
    "1. Download and load the dataset into a Jupyter Notebook. (5 points)\n",
    "2. Display the shape of the dataset (number of rows and columns). (5 points)\n",
    "3. Show the first 5 rows of the dataset using Pandas. (5 points)"
   ]
  },
  {
   "cell_type": "code",
   "execution_count": 11,
   "id": "374f4276-8cfd-4767-82fe-1d29db911aff",
   "metadata": {},
   "outputs": [],
   "source": [
    "import os\n",
    "import numpy\n",
    "import pandas as pd\n",
    "import matplotlib.pyplot as ply"
   ]
  },
  {
   "cell_type": "code",
   "execution_count": 17,
   "id": "efef1b94-dbca-4a37-8057-ca7e90ceb0c2",
   "metadata": {},
   "outputs": [],
   "source": [
    "jobs = pd.read_csv('Demo_Data.csv')"
   ]
  },
  {
   "cell_type": "code",
   "execution_count": 18,
   "id": "26b09b9a-aea0-4370-9a41-f1d51c5690fc",
   "metadata": {},
   "outputs": [
    {
     "data": {
      "text/html": [
       "<div>\n",
       "<style scoped>\n",
       "    .dataframe tbody tr th:only-of-type {\n",
       "        vertical-align: middle;\n",
       "    }\n",
       "\n",
       "    .dataframe tbody tr th {\n",
       "        vertical-align: top;\n",
       "    }\n",
       "\n",
       "    .dataframe thead th {\n",
       "        text-align: right;\n",
       "    }\n",
       "</style>\n",
       "<table border=\"1\" class=\"dataframe\">\n",
       "  <thead>\n",
       "    <tr style=\"text-align: right;\">\n",
       "      <th></th>\n",
       "      <th>Age</th>\n",
       "      <th>Gender</th>\n",
       "      <th>Education Level</th>\n",
       "      <th>Job Title</th>\n",
       "      <th>Years of Experience</th>\n",
       "      <th>Salary</th>\n",
       "    </tr>\n",
       "  </thead>\n",
       "  <tbody>\n",
       "    <tr>\n",
       "      <th>0</th>\n",
       "      <td>32.0</td>\n",
       "      <td>Male</td>\n",
       "      <td>Bachelor's</td>\n",
       "      <td>Software Engineer</td>\n",
       "      <td>5.0</td>\n",
       "      <td>90000.0</td>\n",
       "    </tr>\n",
       "    <tr>\n",
       "      <th>1</th>\n",
       "      <td>28.0</td>\n",
       "      <td>Female</td>\n",
       "      <td>Master's</td>\n",
       "      <td>Data Analyst</td>\n",
       "      <td>3.0</td>\n",
       "      <td>65000.0</td>\n",
       "    </tr>\n",
       "    <tr>\n",
       "      <th>2</th>\n",
       "      <td>45.0</td>\n",
       "      <td>Male</td>\n",
       "      <td>PhD</td>\n",
       "      <td>Senior Manager</td>\n",
       "      <td>15.0</td>\n",
       "      <td>150000.0</td>\n",
       "    </tr>\n",
       "    <tr>\n",
       "      <th>3</th>\n",
       "      <td>36.0</td>\n",
       "      <td>Female</td>\n",
       "      <td>Bachelor's</td>\n",
       "      <td>Sales Associate</td>\n",
       "      <td>7.0</td>\n",
       "      <td>60000.0</td>\n",
       "    </tr>\n",
       "    <tr>\n",
       "      <th>4</th>\n",
       "      <td>52.0</td>\n",
       "      <td>Male</td>\n",
       "      <td>Master's</td>\n",
       "      <td>Director</td>\n",
       "      <td>20.0</td>\n",
       "      <td>200000.0</td>\n",
       "    </tr>\n",
       "    <tr>\n",
       "      <th>...</th>\n",
       "      <td>...</td>\n",
       "      <td>...</td>\n",
       "      <td>...</td>\n",
       "      <td>...</td>\n",
       "      <td>...</td>\n",
       "      <td>...</td>\n",
       "    </tr>\n",
       "    <tr>\n",
       "      <th>6699</th>\n",
       "      <td>49.0</td>\n",
       "      <td>Female</td>\n",
       "      <td>PhD</td>\n",
       "      <td>Director of Marketing</td>\n",
       "      <td>20.0</td>\n",
       "      <td>200000.0</td>\n",
       "    </tr>\n",
       "    <tr>\n",
       "      <th>6700</th>\n",
       "      <td>32.0</td>\n",
       "      <td>Male</td>\n",
       "      <td>High School</td>\n",
       "      <td>Sales Associate</td>\n",
       "      <td>3.0</td>\n",
       "      <td>50000.0</td>\n",
       "    </tr>\n",
       "    <tr>\n",
       "      <th>6701</th>\n",
       "      <td>30.0</td>\n",
       "      <td>Female</td>\n",
       "      <td>Bachelor's Degree</td>\n",
       "      <td>Financial Manager</td>\n",
       "      <td>4.0</td>\n",
       "      <td>55000.0</td>\n",
       "    </tr>\n",
       "    <tr>\n",
       "      <th>6702</th>\n",
       "      <td>46.0</td>\n",
       "      <td>Male</td>\n",
       "      <td>Master's Degree</td>\n",
       "      <td>Marketing Manager</td>\n",
       "      <td>14.0</td>\n",
       "      <td>140000.0</td>\n",
       "    </tr>\n",
       "    <tr>\n",
       "      <th>6703</th>\n",
       "      <td>26.0</td>\n",
       "      <td>Female</td>\n",
       "      <td>High School</td>\n",
       "      <td>Sales Executive</td>\n",
       "      <td>1.0</td>\n",
       "      <td>35000.0</td>\n",
       "    </tr>\n",
       "  </tbody>\n",
       "</table>\n",
       "<p>6704 rows × 6 columns</p>\n",
       "</div>"
      ],
      "text/plain": [
       "       Age  Gender    Education Level              Job Title  \\\n",
       "0     32.0    Male         Bachelor's      Software Engineer   \n",
       "1     28.0  Female           Master's           Data Analyst   \n",
       "2     45.0    Male                PhD         Senior Manager   \n",
       "3     36.0  Female         Bachelor's        Sales Associate   \n",
       "4     52.0    Male           Master's               Director   \n",
       "...    ...     ...                ...                    ...   \n",
       "6699  49.0  Female                PhD  Director of Marketing   \n",
       "6700  32.0    Male        High School        Sales Associate   \n",
       "6701  30.0  Female  Bachelor's Degree      Financial Manager   \n",
       "6702  46.0    Male    Master's Degree      Marketing Manager   \n",
       "6703  26.0  Female        High School        Sales Executive   \n",
       "\n",
       "      Years of Experience    Salary  \n",
       "0                     5.0   90000.0  \n",
       "1                     3.0   65000.0  \n",
       "2                    15.0  150000.0  \n",
       "3                     7.0   60000.0  \n",
       "4                    20.0  200000.0  \n",
       "...                   ...       ...  \n",
       "6699                 20.0  200000.0  \n",
       "6700                  3.0   50000.0  \n",
       "6701                  4.0   55000.0  \n",
       "6702                 14.0  140000.0  \n",
       "6703                  1.0   35000.0  \n",
       "\n",
       "[6704 rows x 6 columns]"
      ]
     },
     "execution_count": 18,
     "metadata": {},
     "output_type": "execute_result"
    }
   ],
   "source": [
    "jobs"
   ]
  },
  {
   "cell_type": "code",
   "execution_count": 23,
   "id": "8b388264-2fb2-4d97-98e9-d031cc76703c",
   "metadata": {},
   "outputs": [
    {
     "name": "stdout",
     "output_type": "stream",
     "text": [
      "shape:  (6704, 6)\n"
     ]
    }
   ],
   "source": [
    "print('shape: ', jobs.shape) # where (x,y) where x is the number or rows, y is number of columns"
   ]
  },
  {
   "cell_type": "code",
   "execution_count": 24,
   "id": "62126e9e-ad9f-4ca9-929c-bb9d3e488871",
   "metadata": {},
   "outputs": [
    {
     "name": "stdout",
     "output_type": "stream",
     "text": [
      "columns:  Index(['Age', 'Gender', 'Education Level', 'Job Title', 'Years of Experience',\n",
      "       'Salary'],\n",
      "      dtype='object')\n"
     ]
    }
   ],
   "source": [
    "print('columns: ', jobs.columns) # lists the column NAMES, not the amt, just testing this out "
   ]
  },
  {
   "cell_type": "code",
   "execution_count": 30,
   "id": "48540cda-4e9c-4548-a63a-c26a168d21ee",
   "metadata": {},
   "outputs": [
    {
     "name": "stdout",
     "output_type": "stream",
     "text": [
      "    Age  Gender Education Level          Job Title  Years of Experience  \\\n",
      "0  32.0    Male      Bachelor's  Software Engineer                  5.0   \n",
      "1  28.0  Female        Master's       Data Analyst                  3.0   \n",
      "2  45.0    Male             PhD     Senior Manager                 15.0   \n",
      "3  36.0  Female      Bachelor's    Sales Associate                  7.0   \n",
      "4  52.0    Male        Master's           Director                 20.0   \n",
      "\n",
      "     Salary  \n",
      "0   90000.0  \n",
      "1   65000.0  \n",
      "2  150000.0  \n",
      "3   60000.0  \n",
      "4  200000.0  \n"
     ]
    }
   ],
   "source": [
    "print(jobs.head()) # shows first 5 jobs, where .head(n) where n is the number of entries you can show"
   ]
  },
  {
   "cell_type": "markdown",
   "id": "ab745ea4-09cd-4817-b437-0fcae0c116fe",
   "metadata": {},
   "source": [
    "#### Task 2: Think-Pair-Share Discussion (10 points)\n",
    "1. What kinds of questions can you answer from this dataset?\n",
    "2. What questions would you like to answer but cannot with this dataset?\n",
    "3. What would an ideal dataset look like?\n",
    "4. Imagine a product or service that could be developed using this dataset\n",
    "a. who are the stakeholders?\n",
    "b. What value would this product or service provide?"
   ]
  },
  {
   "cell_type": "markdown",
   "id": "5bbf4f02-7b00-4f42-9617-12aaeb5b0dde",
   "metadata": {},
   "source": [
    "**Question 1 Response**\n",
    "- Mean of user ages?\n",
    "- Percentage of different education levels (i.e. Bachelor's, Master's PhD)?\n",
    "- Mean of years of experience?\n",
    "- Categorical count of different job titles?\n",
    "\n",
    "**Question 2 Response**\n",
    "I woudl like to know the correlation between the job titles and gender, and whether there are any similarities or differences between the two. I'd also add age for an extra layer of detail as well. So a question could be like, what job types does each gender lean to? Can we draw categories from that? \n",
    "\n",
    "**Question 3 Response** \n",
    "One that is clean and has the relevant data. It really depends on why you're doing an analysis in the first place and who this is for. Let's say said stakeholder wants to look into the demographic of a com"
   ]
  },
  {
   "cell_type": "markdown",
   "id": "99162fd2-a0b7-4b56-b77f-af5c66257e13",
   "metadata": {},
   "source": [
    "#### Task 3: Data Analysis and Visualization\n",
    "1. Create a bar plot showing job counts for the top 5 industries. (5 points)\n",
    "2. Create a bar plot of the mean salary estimates for the same top 5 industries. (5 points)\n",
    "Hint: Clean the 'Salary Estimate' column first and use the mid-point salary.\n",
    "3. Develop one additional analysis question of your choice and answer it using Python code. (5\n",
    "points)"
   ]
  },
  {
   "cell_type": "markdown",
   "id": "b52b98f0-6909-4f1e-ac29-1b0c35247455",
   "metadata": {},
   "source": [
    "#### Task 4: Reflection (10 points)\n",
    "1. Summarize the new concepts or coding skills you learned.\n",
    "2. Include code snippets or notes for future reference.\n",
    "3. Reflect on how ChatGPT helped (or did not help) in completing the lab.\n",
    "4. Compare this learning experience to other methods (lectures, exercises, Google searches).\n",
    "5. Share your overall sentiment about the lab session (e.g., productive, enjoyable, frustrating)."
   ]
  },
  {
   "cell_type": "markdown",
   "id": "9a9f2e9c-ce3b-4468-a7da-07032f1fa385",
   "metadata": {},
   "source": [
    "#### Bonus Question (Task 5) (10 points)\n",
    "Using the Demo_Data.csv dataset, generate a Profile Table\n",
    "1. Create a profile table that summarizes the dataset, including:\n",
    "- Number of rows and columns\n",
    "- Data types of each column\n",
    "- Number of missing values per column\n",
    "- Basic statistics for numerical columns (mean, median, min, max)\n",
    "- Distribution counts for categorical columns (e.g., Gender, Education Level, Job Title)\n",
    "\n",
    "2. Display this summary in a well-formatted table (hint: you can use pandas.DataFrame.describe(), value_counts(), and custom aggregation).\n",
    "\n",
    "3. Reflect: \n",
    "- How does this profile table help you understand the dataset quickly?\n",
    "- If you were preparing the data for a machine learning model, which columns might need\n",
    "cleaning or transformation?"
   ]
  },
  {
   "cell_type": "code",
   "execution_count": null,
   "id": "0abf39a1-747f-41ef-883d-000f09aad8e4",
   "metadata": {},
   "outputs": [],
   "source": []
  }
 ],
 "metadata": {
  "kernelspec": {
   "display_name": "Python 3 (ipykernel)",
   "language": "python",
   "name": "python3"
  },
  "language_info": {
   "codemirror_mode": {
    "name": "ipython",
    "version": 3
   },
   "file_extension": ".py",
   "mimetype": "text/x-python",
   "name": "python",
   "nbconvert_exporter": "python",
   "pygments_lexer": "ipython3",
   "version": "3.9.6"
  }
 },
 "nbformat": 4,
 "nbformat_minor": 5
}
