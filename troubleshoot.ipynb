{
 "cells": [
  {
   "cell_type": "code",
   "execution_count": 1,
   "id": "21cd57c5-3178-4770-8591-d991bca70338",
   "metadata": {},
   "outputs": [
    {
     "name": "stdout",
     "output_type": "stream",
     "text": [
      "xelatex not found\n",
      "zsh:1: command not found: xelatex\n",
      "zsh:1: command not found: latexmk\n"
     ]
    }
   ],
   "source": [
    "!which xelatex\n",
    "!xelatex --version || true\n",
    "!latexmk -v || true"
   ]
  },
  {
   "cell_type": "code",
   "execution_count": 2,
   "id": "8008d4ab-a769-4e63-b5e6-73ce49fdfd9e",
   "metadata": {},
   "outputs": [
    {
     "name": "stdout",
     "output_type": "stream",
     "text": [
      "xelatex not found\n",
      "zsh:1: command not found: xelatex\n",
      "zsh:1: command not found: latexmk\n"
     ]
    }
   ],
   "source": [
    "import os\n",
    "os.environ[\"PATH\"] = \"/Library/TeX/texbin:\" + os.environ[\"PATH\"]\n",
    "!which xelatex || true\n",
    "!xelatex --version || true\n",
    "!latexmk -v || true"
   ]
  },
  {
   "cell_type": "code",
   "execution_count": 1,
   "id": "991c4346-9c3a-4158-9a08-9348639b313c",
   "metadata": {},
   "outputs": [],
   "source": [
    "import os"
   ]
  },
  {
   "cell_type": "code",
   "execution_count": 2,
   "id": "8dbe882b-5a88-44c2-ae2b-b5e637ad9074",
   "metadata": {},
   "outputs": [
    {
     "data": {
      "text/plain": [
       "'/Users/sydneeangus/IS 428 - Data Mining Techniques and Applications'"
      ]
     },
     "execution_count": 2,
     "metadata": {},
     "output_type": "execute_result"
    }
   ],
   "source": [
    "os.getcwd()"
   ]
  },
  {
   "cell_type": "code",
   "execution_count": null,
   "id": "b55601e2-4167-41f0-a6f4-03586ba4b5ce",
   "metadata": {},
   "outputs": [],
   "source": []
  }
 ],
 "metadata": {
  "kernelspec": {
   "display_name": "Python 3 (ipykernel)",
   "language": "python",
   "name": "python3"
  },
  "language_info": {
   "codemirror_mode": {
    "name": "ipython",
    "version": 3
   },
   "file_extension": ".py",
   "mimetype": "text/x-python",
   "name": "python",
   "nbconvert_exporter": "python",
   "pygments_lexer": "ipython3",
   "version": "3.9.6"
  }
 },
 "nbformat": 4,
 "nbformat_minor": 5
}
